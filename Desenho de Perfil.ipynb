{
 "cells": [
  {
   "cell_type": "code",
   "execution_count": 4,
   "metadata": {},
   "outputs": [
    {
     "data": {
      "text/plain": [
       "<a list of 1 text.Text objects>"
      ]
     },
     "execution_count": 4,
     "metadata": {},
     "output_type": "execute_result"
    },
    {
     "data": {
      "image/png": "[encoded data removed]",
      "text/plain": [
       "<Figure size 259.2x432 with 1 Axes>"
      ]
     },
     "metadata": {
      "needs_background": "light"
     },
     "output_type": "display_data"
    }
   ],
   "source": [
    "import numpy as np\n",
    "import matplotlib.pyplot as plt\n",
    "Nome = 'Perfil I'\n",
    "d = 20         # Altura total do Perfil\n",
    "tw = 0.35      # Espessura da Alma\n",
    "tf = 0.50      # Espessura da Mesa\n",
    "bf = 12.0      # Largura da mesa\n",
    "h = d - 2*tf   # altura da Alma\n",
    "\n",
    "# Desenho do perfil original\n",
    "# pontos de coordenadas\n",
    "pt1 = [-bf/2, -d/2]\n",
    "pt2 = [-bf/2, -h/2]\n",
    "pt3 = [-tw/2, -h/2]\n",
    "pt4 = [-tw/2, h/2]\n",
    "pt5 = [-bf/2, h/2]\n",
    "pt6 = [-bf/2, d/2]\n",
    "pt7 = [bf/2, d/2]\n",
    "pt8 = [bf/2, h/2]\n",
    "pt9 = [tw/2, h/2]\n",
    "pt10 = [tw/2, -h/2]\n",
    "pt11 = [bf/2, -h/2]\n",
    "pt12 = [bf/2, -d/2]\n",
    "pts = [pt1, pt2, pt3, pt4, pt5, pt6, pt7, pt8, pt9, pt10, pt11, pt12]\n",
    "\n",
    "# Nós iniciais\n",
    "Ni = [1, 2, 3, 4, 5, 6, 7, 8, 9, 10, 11, 12]\n",
    "# Nós finais\n",
    "Nf = [2, 3, 4, 5, 6, 7, 8, 9, 10, 11, 12, 1]\n",
    "\n",
    "# barras\n",
    "n = len(pts)\n",
    "barra = 0\n",
    "plt.figure(1, figsize = (bf*0.3,d*0.3))\n",
    "for barra in range(12):\n",
    "    # Nós que compõem as barras\n",
    "    N1 = Ni[barra]\n",
    "    N2 = Nf[barra]\n",
    "    \n",
    "    # Determinação das coordenadas\n",
    "    x1 = pts[N1-1][0]\n",
    "    y1 = pts[N1-1][1]\n",
    "    x2 = pts[N2-1][0]\n",
    "    y2 = pts[N2-1][1]\n",
    "    \n",
    "    # Vetores de X e Y\n",
    "    X = np.array([x1, x2])\n",
    "    Y = np.array([y1, y2])\n",
    "    \n",
    "    plt.title(Nome, fontsize = 20)\n",
    "    plt.plot(X,Y, color ='black')\n",
    "    \n",
    "x = np.arange(0,bf/3,0.01)# Defining limits and discretization points amount\n",
    "y = np.arange(0,d/4,0.01)# Defining limits and discretization points amount\n",
    "x1, x2 = np.meshgrid(x, y)      # meshing\n",
    "eixo_x = 0 - x2\n",
    "eixo_y = x1 - 0\n",
    "# eixo_d = x1 - 0\n",
    "\n",
    "cx = plt.contour(x1,x2,eixo_x, levels=[-1],linestyles='dotted',colors='black')\n",
    "\n",
    "cx.levels = ['X - X']\n",
    "plt.clabel(cx, cx.levels, inline=True, fontsize=12)\n",
    "\n",
    "cy = plt.contour(x1,x2,eixo_y, levels=[+1],linestyles='dotted',colors='black')\n",
    "\n",
    "cy.levels = ['Y - Y']\n",
    "plt.clabel(cy, cy.levels, inline=True, fontsize=12)"
   ]
  },
  {
   "cell_type": "code",
   "execution_count": null,
   "metadata": {},
   "outputs": [],
   "source": []
  }
 ],
 "metadata": {
  "kernelspec": {
   "display_name": "Python 3",
   "language": "python",
   "name": "python3"
  },
  "language_info": {
   "codemirror_mode": {
    "name": "ipython",
    "version": 3
   },
   "file_extension": ".py",
   "mimetype": "text/x-python",
   "name": "python",
   "nbconvert_exporter": "python",
   "pygments_lexer": "ipython3",
   "version": "3.8.3"
  }
 },
 "nbformat": 4,
 "nbformat_minor": 4
}
